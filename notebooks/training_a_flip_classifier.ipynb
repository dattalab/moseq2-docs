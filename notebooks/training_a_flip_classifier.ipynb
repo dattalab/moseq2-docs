{
 "cells": [
  {
   "cell_type": "code",
   "execution_count": 1,
   "metadata": {
    "collapsed": true
   },
   "outputs": [],
   "source": [
    "%matplotlib inline\n",
    "from copy import deepcopy\n",
    "from moseq2_extract.cli import extract\n",
    "from moseq2_extract.extract.proc import clean_frames # this will clean frames similar to the pre-processing used in the extraction library\n",
    "from moseq2_batch.util import recursive_find_h5s # convenience function for finding extracted data\n",
    "import h5py\n",
    "import numpy as np\n",
    "import matplotlib.pyplot as plt\n",
    "import joblib\n",
    "import sklearn.model_selection\n",
    "import sklearn.ensemble\n",
    "import os\n",
    "import cv2"
   ]
  },
  {
   "cell_type": "code",
   "execution_count": 2,
   "metadata": {
    "collapsed": true
   },
   "outputs": [],
   "source": [
    "max_frames=4e5 # max number of frames to use (so we don't spend all day training, performance anecdotally saturates around 1e5)"
   ]
  },
  {
   "cell_type": "markdown",
   "metadata": {},
   "source": [
    "### First grab corrected frames, then we'll make a dataset with x and y flips"
   ]
  },
  {
   "cell_type": "code",
   "execution_count": 3,
   "metadata": {
    "collapsed": false
   },
   "outputs": [
    {
     "name": "stdout",
     "output_type": "stream",
     "text": [
      "/Volumes/LaCie/scratch/test_data\n"
     ]
    }
   ],
   "source": [
    "cd /Volumes/LaCie/scratch/test_data/"
   ]
  },
  {
   "cell_type": "code",
   "execution_count": 4,
   "metadata": {
    "collapsed": false
   },
   "outputs": [
    {
     "name": "stdout",
     "output_type": "stream",
     "text": [
      "['/Volumes/LaCie/scratch/test_data/session_20180503101758/proc/results_00.h5', '/Volumes/LaCie/scratch/test_data/session_20180503112433/proc/results_00.h5']\n"
     ]
    }
   ],
   "source": [
    "h5s = recursive_find_h5s(root_dir=os.getcwd()) # this is just a convenience function to find h5s\n",
    "print(h5s[0])"
   ]
  },
  {
   "cell_type": "code",
   "execution_count": 5,
   "metadata": {
    "collapsed": false
   },
   "outputs": [
    {
     "name": "stdout",
     "output_type": "stream",
     "text": [
      "(161953, 80, 80)\n"
     ]
    }
   ],
   "source": [
    "dsets = [h5py.File(h5)['frames'] for h5 in h5s[0]]\n",
    "data = [dset.value for dset in dsets]\n",
    "merged_data = np.concatenate(data, axis=0)\n",
    "print(merged_data.shape)"
   ]
  },
  {
   "cell_type": "code",
   "execution_count": 6,
   "metadata": {
    "collapsed": true
   },
   "outputs": [],
   "source": [
    "# these are the current defaults for cleaning frames in MoSeq2-extract\n",
    "clean_parameters = {\n",
    "    'iters_tail': 1,\n",
    "    'strel_tail': cv2.getStructuringElement(cv2.MORPH_ELLIPSE, (9,9)),\n",
    "    'prefilter_space': (3,)}"
   ]
  },
  {
   "cell_type": "code",
   "execution_count": 7,
   "metadata": {
    "collapsed": false
   },
   "outputs": [
    {
     "name": "stderr",
     "output_type": "stream",
     "text": [
      "Cleaning frames: 100%|██████████| 161953/161953 [00:14<00:00, 11438.55it/s]\n"
     ]
    }
   ],
   "source": [
    "clean_merged_data=clean_frames(merged_data, **clean_parameters)"
   ]
  },
  {
   "cell_type": "markdown",
   "metadata": {},
   "source": [
    "### If there are flips, make a list of frames with flips (mouse facing left)"
   ]
  },
  {
   "cell_type": "code",
   "execution_count": 8,
   "metadata": {
    "collapsed": true
   },
   "outputs": [],
   "source": [
    "flips = [range(dsets[0].shape[0]+1772,dsets[0].shape[0]+1841),\n",
    "         range(dsets[0].shape[0]+3588,dsets[0].shape[0]+3634),\n",
    "         range(dsets[0].shape[0]+80854,dsets[0].shape[0]+dsets[1].shape[0])]\n",
    "flip_idx = np.concatenate([list(flip) for flip in flips])"
   ]
  },
  {
   "cell_type": "markdown",
   "metadata": {},
   "source": [
    "### Correct the flips "
   ]
  },
  {
   "cell_type": "code",
   "execution_count": 9,
   "metadata": {
    "collapsed": true
   },
   "outputs": [],
   "source": [
    "corrected_data = deepcopy(clean_merged_data)"
   ]
  },
  {
   "cell_type": "code",
   "execution_count": 10,
   "metadata": {
    "collapsed": true
   },
   "outputs": [],
   "source": [
    "corrected_data[flip_idx] = np.flip(corrected_data[flip_idx], axis=2)"
   ]
  },
  {
   "cell_type": "code",
   "execution_count": 11,
   "metadata": {
    "collapsed": false
   },
   "outputs": [
    {
     "data": {
      "text/plain": [
       "<matplotlib.image.AxesImage at 0x195073da0>"
      ]
     },
     "execution_count": 11,
     "metadata": {},
     "output_type": "execute_result"
    },
    {
     "data": {
      "image/png": "[encoded data removed]",
      "text/plain": [
       "<Figure size 432x288 with 1 Axes>"
      ]
     },
     "metadata": {},
     "output_type": "display_data"
    }
   ],
   "source": [
    "plt.imshow(corrected_data[flip_idx[10]])"
   ]
  },
  {
   "cell_type": "code",
   "execution_count": 12,
   "metadata": {
    "collapsed": false
   },
   "outputs": [
    {
     "data": {
      "text/plain": [
       "<matplotlib.image.AxesImage at 0x1951db748>"
      ]
     },
     "execution_count": 12,
     "metadata": {},
     "output_type": "execute_result"
    },
    {
     "data": {
      "image/png": "[encoded data removed]",
      "text/plain": [
       "<Figure size 432x288 with 1 Axes>"
      ]
     },
     "metadata": {},
     "output_type": "display_data"
    }
   ],
   "source": [
    "plt.imshow(corrected_data[200])"
   ]
  },
  {
   "cell_type": "markdown",
   "metadata": {
    "collapsed": true
   },
   "source": [
    "### Make 4 datasets: (1) corrected data, (2) x-axis flipped, (3) y-axis flipped, (4) x and y-axis flipped"
   ]
  },
  {
   "cell_type": "markdown",
   "metadata": {},
   "source": [
    "The corrected data and y-axis flipped are **correct** examples, and x-axis flipped and x and y-axis flipped are **incorrect** examples"
   ]
  },
  {
   "cell_type": "code",
   "execution_count": 13,
   "metadata": {
    "collapsed": true
   },
   "outputs": [],
   "source": [
    "data_xflip=np.flip(corrected_data,axis=2)\n",
    "data_yflip=np.flip(corrected_data,axis=1)\n",
    "data_xyflip=np.flip(data_yflip,axis=2)"
   ]
  },
  {
   "cell_type": "code",
   "execution_count": 14,
   "metadata": {
    "collapsed": false,
    "scrolled": true
   },
   "outputs": [
    {
     "data": {
      "text/plain": [
       "<matplotlib.image.AxesImage at 0x1950edd30>"
      ]
     },
     "execution_count": 14,
     "metadata": {},
     "output_type": "execute_result"
    },
    {
     "data": {
      "image/png": "[encoded data removed]",
      "text/plain": [
       "<Figure size 432x288 with 4 Axes>"
      ]
     },
     "metadata": {},
     "output_type": "display_data"
    }
   ],
   "source": [
    "fig, axes=plt.subplots(1,4)\n",
    "axes[0].imshow(corrected_data[0,...],vmin=0,vmax=40)\n",
    "axes[1].imshow(data_xflip[0,...],vmin=0,vmax=40)\n",
    "axes[2].imshow(data_yflip[0,...],vmin=0,vmax=40)\n",
    "axes[3].imshow(data_xyflip[0,...],vmin=0,vmax=40)"
   ]
  },
  {
   "cell_type": "code",
   "execution_count": 15,
   "metadata": {
    "collapsed": false
   },
   "outputs": [],
   "source": [
    "npixels=corrected_data.shape[1]*corrected_data.shape[2]\n",
    "ntrials=corrected_data.shape[0]"
   ]
  },
  {
   "cell_type": "code",
   "execution_count": 16,
   "metadata": {
    "collapsed": true
   },
   "outputs": [],
   "source": [
    "x=np.vstack((data_xflip.reshape((-1,6400)),data_xyflip.reshape((-1,6400)),\n",
    "             data_yflip.reshape((-1,6400)),corrected_data.reshape((-1,6400))))"
   ]
  },
  {
   "cell_type": "markdown",
   "metadata": {},
   "source": [
    "### For the labels we predict, 1 indicates a flip (facing left) 0 is not-flipped (facing right)"
   ]
  },
  {
   "cell_type": "code",
   "execution_count": 17,
   "metadata": {
    "collapsed": true
   },
   "outputs": [],
   "source": [
    "y=np.concatenate((np.ones((ntrials*2,)),np.zeros((ntrials*2,)))) # class 1 is x flipped data"
   ]
  },
  {
   "cell_type": "code",
   "execution_count": 18,
   "metadata": {
    "collapsed": false
   },
   "outputs": [
    {
     "name": "stdout",
     "output_type": "stream",
     "text": [
      "(647812, 6400)\n",
      "(647812,)\n"
     ]
    }
   ],
   "source": [
    "print(x.shape)\n",
    "print(y.shape)"
   ]
  },
  {
   "cell_type": "code",
   "execution_count": 19,
   "metadata": {
    "collapsed": false
   },
   "outputs": [
    {
     "data": {
      "text/plain": [
       "[<matplotlib.lines.Line2D at 0x195405ac8>]"
      ]
     },
     "execution_count": 19,
     "metadata": {},
     "output_type": "execute_result"
    },
    {
     "data": {
      "image/png": "[encoded data removed]",
      "text/plain": [
       "<Figure size 432x288 with 1 Axes>"
      ]
     },
     "metadata": {},
     "output_type": "display_data"
    }
   ],
   "source": [
    "plt.plot(y)"
   ]
  },
  {
   "cell_type": "markdown",
   "metadata": {},
   "source": [
    "### Evaluate performance using held-out data"
   ]
  },
  {
   "cell_type": "code",
   "execution_count": 20,
   "metadata": {
    "collapsed": true
   },
   "outputs": [],
   "source": [
    "x_train,x_test,y_train,y_test=\\\n",
    "    sklearn.model_selection.train_test_split(x,y,test_size=.25,random_state=0)"
   ]
  },
  {
   "cell_type": "code",
   "execution_count": 21,
   "metadata": {
    "collapsed": false
   },
   "outputs": [
    {
     "name": "stdout",
     "output_type": "stream",
     "text": [
      "CPU times: user 48min 59s, sys: 13.9 s, total: 49min 13s\n",
      "Wall time: 4min 40s\n"
     ]
    }
   ],
   "source": [
    "%%time \n",
    "clf=sklearn.ensemble.RandomForestClassifier(n_estimators=100,random_state=0,n_jobs=-1,\n",
    "                                            max_depth=10,class_weight='balanced',\n",
    "                                            warm_start=False)\n",
    "clf.fit(x_train,y_train)"
   ]
  },
  {
   "cell_type": "code",
   "execution_count": 22,
   "metadata": {
    "collapsed": false
   },
   "outputs": [
    {
     "name": "stdout",
     "output_type": "stream",
     "text": [
      "Performance: 97.322680% correct\n"
     ]
    }
   ],
   "source": [
    "y_predict=clf.predict(x_test)\n",
    "print('Performance: {0:3f}% correct'.format(np.mean(y_test==y_predict)*1e2))"
   ]
  },
  {
   "cell_type": "markdown",
   "metadata": {},
   "source": [
    "### For the final model, train on all available data"
   ]
  },
  {
   "cell_type": "code",
   "execution_count": 23,
   "metadata": {
    "collapsed": false
   },
   "outputs": [
    {
     "name": "stdout",
     "output_type": "stream",
     "text": [
      "CPU times: user 1h 1min 3s, sys: 17.8 s, total: 1h 1min 21s\n",
      "Wall time: 5min 49s\n"
     ]
    },
    {
     "data": {
      "text/plain": [
       "RandomForestClassifier(bootstrap=True, class_weight='balanced',\n",
       "            criterion='gini', max_depth=10, max_features='auto',\n",
       "            max_leaf_nodes=None, min_impurity_decrease=0.0,\n",
       "            min_impurity_split=None, min_samples_leaf=1,\n",
       "            min_samples_split=2, min_weight_fraction_leaf=0.0,\n",
       "            n_estimators=100, n_jobs=-1, oob_score=False, random_state=0,\n",
       "            verbose=0, warm_start=False)"
      ]
     },
     "execution_count": 23,
     "metadata": {},
     "output_type": "execute_result"
    }
   ],
   "source": [
    "%%time\n",
    "clf.fit(x,y)"
   ]
  },
  {
   "cell_type": "code",
   "execution_count": 24,
   "metadata": {
    "collapsed": false
   },
   "outputs": [
    {
     "data": {
      "text/plain": [
       "['flip_classifier_test.pkl']"
      ]
     },
     "execution_count": 24,
     "metadata": {},
     "output_type": "execute_result"
    }
   ],
   "source": [
    "# export using joblib, we pass this using moseq2-extract extract --flip-classifier flip_classifier_test.pkl\n",
    "joblib.dump(clf,'flip_classifier_test.pkl')"
   ]
  },
  {
   "cell_type": "code",
   "execution_count": null,
   "metadata": {
    "collapsed": true
   },
   "outputs": [],
   "source": []
  }
 ],
 "metadata": {
  "anaconda-cloud": {},
  "kernelspec": {
   "display_name": "Python [conda env:moseq2]",
   "language": "python",
   "name": "conda-env-moseq2-py"
  },
  "language_info": {
   "codemirror_mode": {
    "name": "ipython",
    "version": 3
   },
   "file_extension": ".py",
   "mimetype": "text/x-python",
   "name": "python",
   "nbconvert_exporter": "python",
   "pygments_lexer": "ipython3",
   "version": "3.6.2"
  }
 },
 "nbformat": 4,
 "nbformat_minor": 1
}
