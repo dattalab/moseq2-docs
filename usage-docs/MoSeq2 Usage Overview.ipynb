{
 "cells": [
  {
   "cell_type": "markdown",
   "metadata": {},
   "source": [
    "# MoSeq2: Usage and Setup\n",
    "\n",
    "MoSeq2 (Motion Sequencing) is an open-source Python library containing tools to collect, extract and model 3D behavioral data collected using commercial 3D sensors.\n",
    "\n",
    "Below is a list of (stable) tools that are currently available for use:\n",
    " - moseq2-extract\n",
    " - moseq2-pca\n",
    " - moseq2-model\n",
    " - moseq2-viz\n",
    " - moseq2-batch\n",
    " \n",
    "MoSeq2 is designed to be used in a sequential end-to-end fashion: once the 3D data is collected, users can then perform many different exploratory analysis techniques such as ROI analysis, PCA, and data vizualization. Examples for usage of each tool will be outlined in separate jupyter notebooks (linked above)."
   ]
  },
  {
   "cell_type": "markdown",
   "metadata": {},
   "source": [
    "## MoSeq2 Usage Pipeline\n",
    "<img src=\"media/moseq2_pipeline.png\" alt=\"Sequential MoSeq2 Usage Pattern\" title=\"MoSeq2 Pipeline\" />\n",
    "Note: These jupyter notebooks will be focusing on steps 2-7 to give users an in-depth explanation on how to perform data analysis using MoSeq2."
   ]
  },
  {
   "cell_type": "markdown",
   "metadata": {},
   "source": [
    "# MoSeq2 Software Requirements\n",
    "\n",
    "In order to successfully install MoSeq2, we recommend you ensure you have the following libraries and packages already installed:\n",
    " - All Platforms:\n",
    "     - anaconda3/miniconda3\n",
    "     - python3.6\n",
    "     - git\n",
    "     - gcc-7 and g++-7 (ensure this version is default)\n",
    "     - numpy\n",
    "     - pip\n",
    "     - Conda Environment:\n",
    "         - ffmpeg\n",
    "     - CentOS:\n",
    "         - libSM"
   ]
  },
  {
   "cell_type": "markdown",
   "metadata": {},
   "source": [
    "# Installing latest MoSeq2 Repositories\n",
    "\n",
    "Once you have set up your environment and installed all the prerequisite packages, you are now ready to install the MoSeq2 tools."
   ]
  },
  {
   "cell_type": "code",
   "execution_count": null,
   "metadata": {},
   "outputs": [],
   "source": [
    "%%bash \n",
    "source activate moseq2\n",
    "pip install --upgrade pip\n",
    "pip install git+https://github.com/dattalab/moseq2-extract.git\n",
    "pip install git+https://github.com/dattalab/moseq2-pca.git\n",
    "pip install git+https://github.com/dattalab/moseq2-model.git\n",
    "pip install git+https://github.com/dattalab/moseq2-viz.git"
   ]
  },
  {
   "cell_type": "markdown",
   "metadata": {},
   "source": [
    "## Optionally, if you want to use batch functionality, install moseq2-batch:"
   ]
  },
  {
   "cell_type": "code",
   "execution_count": 4,
   "metadata": {},
   "outputs": [
    {
     "name": "stderr",
     "output_type": "stream",
     "text": [
      "Cloning into '/Users/aymanzeine/python_repos/moseq2-batch'...\n"
     ]
    }
   ],
   "source": [
    "%%bash\n",
    "git clone https://github.com/dattalab/moseq2-batch.git $HOME/python_repos/moseq2-batch\n",
    "pip install -e $HOME/python_repos/moseq2-batch"
   ]
  },
  {
   "cell_type": "markdown",
   "metadata": {},
   "source": [
    "# Begin Analysis\n",
    "Once successfully completed installation, you are now ready to use MoSeq2! \n",
    "If you have some prerecorded data, [click here to view a moseq2-extract tutorial.](http://localhost:8888/notebooks/MoSeq2_Analysis_Extraction.ipynb)"
   ]
  }
 ],
 "metadata": {
  "kernelspec": {
   "display_name": "Python 3",
   "language": "python",
   "name": "python3"
  },
  "language_info": {
   "codemirror_mode": {
    "name": "ipython",
    "version": 3
   },
   "file_extension": ".py",
   "mimetype": "text/x-python",
   "name": "python",
   "nbconvert_exporter": "python",
   "pygments_lexer": "ipython3",
   "version": "3.6.9"
  }
 },
 "nbformat": 4,
 "nbformat_minor": 2
}
