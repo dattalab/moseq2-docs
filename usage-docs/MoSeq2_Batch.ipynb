{
 "cells": [
  {
   "cell_type": "markdown",
   "metadata": {},
   "source": [
    "## Analysis: Batch Processing\n",
    "\n",
    "For those who would like to perform some batch processing with MoSeq2, there is a tool called __moseq2-batch__ that affords users a variety of batch processing functions.\n",
    "\n",
    "___Note: moseq2-batch only supports the Slurm scheduler.___\n",
    "\n",
    "For a full list of options/free parameters, run the following bash command:"
   ]
  },
  {
   "cell_type": "code",
   "execution_count": 1,
   "metadata": {},
   "outputs": [
    {
     "name": "stdout",
     "output_type": "stream",
     "text": [
      "Usage: moseq2-batch [OPTIONS] COMMAND [ARGS]...\n",
      "\n",
      "Options:\n",
      "  --help  Show this message and exit.  [default: False]\n",
      "\n",
      "Commands:\n",
      "  aggregate-extract-results\n",
      "  aggregate-modeling-results\n",
      "  convert-raw-to-avi\n",
      "  extract-batch\n",
      "  gen-gridsearch-config\n",
      "  learn-model-parameter-scan\n"
     ]
    }
   ],
   "source": [
    "%%bash\n",
    "moseq2-batch --help"
   ]
  },
  {
   "cell_type": "markdown",
   "metadata": {},
   "source": [
    "## Extracting Data (Batch Mode)\n",
    "\n",
    "First, you need to generate a configuration file to use as the basis for the batch job. This can be generated with the defaults by issuing the following bash command:\n",
    "\n",
    "(assuming your file directory structure is as follows)"
   ]
  },
  {
   "cell_type": "markdown",
   "metadata": {},
   "source": [
    "<img src=\"media/batch-dirstruct.png\" title=\"Starting Directory Structure\" />"
   ]
  },
  {
   "cell_type": "code",
   "execution_count": 2,
   "metadata": {},
   "outputs": [],
   "source": [
    "%%bash\n",
    "moseq2-extract generate-config"
   ]
  },
  {
   "cell_type": "markdown",
   "metadata": {},
   "source": [
    "This will produce a file: __config.yaml__, which will specify the options for your batch. You will need to copy the path to your flip classifier to the key flip_classifier. As an example,\n"
   ]
  },
  {
   "cell_type": "markdown",
   "metadata": {},
   "source": [
    "<img src=\"media/batch-yaml.png\" title=\"Generated Configuration YAML File\" />"
   ]
  },
  {
   "cell_type": "markdown",
   "metadata": {},
   "source": [
    "Next, run the following command to format the commands for a Slurm cluster, and pipe them to a file for executing later, __batch_command.sh__"
   ]
  },
  {
   "cell_type": "code",
   "execution_count": 3,
   "metadata": {},
   "outputs": [],
   "source": [
    "%%bash\n",
    "moseq2-batch extract-batch -c config.yaml > batch_command.sh\n",
    "chmod a+x batch_command.sh\n",
    "./batch_command.sh"
   ]
  }
 ],
 "metadata": {
  "kernelspec": {
   "display_name": "Python 3",
   "language": "python",
   "name": "python3"
  },
  "language_info": {
   "codemirror_mode": {
    "name": "ipython",
    "version": 3
   },
   "file_extension": ".py",
   "mimetype": "text/x-python",
   "name": "python",
   "nbconvert_exporter": "python",
   "pygments_lexer": "ipython3",
   "version": "3.6.9"
  }
 },
 "nbformat": 4,
 "nbformat_minor": 2
}
