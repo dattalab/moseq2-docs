{
 "cells": [
  {
   "cell_type": "markdown",
   "metadata": {},
   "source": [
    "# Analysis: Compute Model-Free Changepoints\n",
    "\n",
    "Model-free changepoints are used to compare with your future models' fits. They are computed using the __moseq2-pca__ tool. \n",
    "\n",
    "Consider the following directory structure:"
   ]
  },
  {
   "cell_type": "raw",
   "metadata": {},
   "source": [
    ".\n",
    "├── depth.dat\n",
    "├── depth_ts.txt\n",
    "├── metadata.json\n",
    "├── proc\n",
    "│   ├── bground.tiff\n",
    "│   ├── first_frame.tiff\n",
    "│   ├── results_00.h5\n",
    "│   ├── results_00.mp4\n",
    "│   ├── results_00.yaml\n",
    "│   └── roi_00.tiff\n",
    "├── _pca\n",
    "│   ├── pca_components.pdf\n",
    "│   ├── pca_components.png\n",
    "│   ├── pca_scores.h5\n",
    "│   ├── pca_scree.pdf\n",
    "│   ├── pca_scree.png\n",
    "│   ├── pca.h5\n",
    "│   ├── pca.yaml\n",
    "├── rgb.mp4\n",
    "└── rgb_ts.txt\n",
    "\n",
    "Run the following command to compute the changepoints:"
   ]
  },
  {
   "cell_type": "markdown",
   "metadata": {},
   "source": [
    "## Compute Changepoints"
   ]
  },
  {
   "cell_type": "code",
   "execution_count": null,
   "metadata": {},
   "outputs": [],
   "source": [
    "%%bash\n",
    "cd sample_session\n",
    "moseq2-pca compute-changepoints"
   ]
  },
  {
   "cell_type": "raw",
   "metadata": {},
   "source": [
    "Resulting in this output and directory structure respectively:\n",
    "\n",
    "Output:\n",
    "\n",
    "Loading PCs from /Users/aymanzeine/Desktop/Moseq_local/moseq2-docs/usage-docs/sample_session/_pca/pca.h5\n",
    "/Users/aymanzeine/anaconda3/envs/moseq2/lib/python3.6/site-packages/moseq2_pca/util.py:308: UserWarning: ncpus or memory out of range, setting to 1 cores, 8 workers, 2.0GB mem per worker\n",
    "!!!IF YOU ARE RUNNING ON A CLUSTER MAKE SURE THESE SETTINGS ARE CORRECT!!!\n",
    "  warnings.warn(warning_string)\n",
    "Press ENTER to continue...\n",
    "/Users/aymanzeine/anaconda3/envs/moseq2/lib/python3.6/site-packages/distributed/worker.py:472: UserWarning: The local_dir keyword has moved to local_directory\n",
    "  warnings.warn(\"The local_dir keyword has moved to local_directory\")\n",
    "Setting up calculation: 100%|████████████████████████████████████████| 1/1 [00:00<00:00, 22.60it/s]\n",
    "Collecting results (batch 1/1): 100%|████████████████████████████████| 1/1 [00:00<00:00,  5.22it/s]\n",
    "\n",
    "\n",
    "Directory Structure: (new files are marked by **)\n",
    ".\n",
    "├── depth.dat\n",
    "├── depth_ts.txt\n",
    "├── metadata.json\n",
    "├── proc\n",
    "│   ├── bground.tiff\n",
    "│   ├── first_frame.tiff\n",
    "│   ├── results_00.h5\n",
    "│   ├── results_00.mp4\n",
    "│   ├── results_00.yaml\n",
    "│   └── roi_00.tiff\n",
    "├── _pca\n",
    "│   ├── changepoints_dist.pdf **\n",
    "│   ├── changepoints_dist.png **\n",
    "│   ├── changepoints.h5 **\n",
    "│   ├── pca_components.pdf\n",
    "│   ├── pca_components.png\n",
    "│   ├── pca_scores.h5\n",
    "│   ├── pca_scree.pdf\n",
    "│   ├── pca_scree.png\n",
    "│   ├── pca.h5\n",
    "│   ├── pca.yaml\n",
    "├── rgb.mp4\n",
    "└── rgb_ts.txt"
   ]
  },
  {
   "cell_type": "markdown",
   "metadata": {},
   "source": [
    "## Changepoints Plot\n",
    "\n",
    "This command produces a plot of the changepoints distribution, which may look like this:\n",
    "\n",
    "<img src=\"media/changepoints_dist.png\" title=\"Model-Free Changepoints\" />\n",
    "\n",
    "While __changepoints.h5__ contains the data used to calculate this distribution."
   ]
  },
  {
   "cell_type": "markdown",
   "metadata": {},
   "source": [
    "## Next Step: Model the Data\n",
    "\n",
    "Now that we have extracted some data, trained up the PC coefficients and computed the PC scores, we are able to fit a AR-HMM model to our data. [Click here to view the modeling walkthrough](http://localhost:8888/notebooks/MoSeq2_Modeling.ipynb)."
   ]
  }
 ],
 "metadata": {
  "kernelspec": {
   "display_name": "Python 3",
   "language": "python",
   "name": "python3"
  },
  "language_info": {
   "codemirror_mode": {
    "name": "ipython",
    "version": 3
   },
   "file_extension": ".py",
   "mimetype": "text/x-python",
   "name": "python",
   "nbconvert_exporter": "python",
   "pygments_lexer": "ipython3",
   "version": "3.6.9"
  }
 },
 "nbformat": 4,
 "nbformat_minor": 2
}
