{
 "cells": [
  {
   "cell_type": "markdown",
   "metadata": {},
   "source": [
    "# Analysis: Model Fitting\n",
    "\n",
    "Now that we have finished the required data preprocessing, we can fit our AR-HMM to our computed datapoints. "
   ]
  },
  {
   "cell_type": "raw",
   "metadata": {},
   "source": [
    "In order for your model to successfully fit to the data, ensure you have the correct directory structure, such as the one below:\n",
    "\n",
    ".\n",
    "├── depth.dat\n",
    "├── depth_ts.txt\n",
    "├── metadata.json\n",
    "├── proc\n",
    "│   ├── bground.tiff\n",
    "│   ├── first_frame.tiff\n",
    "│   ├── results_00.h5\n",
    "│   ├── results_00.mp4\n",
    "│   ├── results_00.yaml\n",
    "│   └── roi_00.tiff\n",
    "├── _pca\n",
    "│   ├── changepoints_dist.pdf\n",
    "│   ├── changepoints_dist.png\n",
    "│   ├── changepoints.h5\n",
    "│   ├── pca_components.pdf\n",
    "│   ├── pca_components.png\n",
    "│   ├── pca_scores.h5\n",
    "│   ├── pca_scree.pdf\n",
    "│   ├── pca_scree.png\n",
    "│   ├── pca.h5\n",
    "│   ├── pca.yaml\n",
    "├── rgb.mp4\n",
    "└── rgb_ts.txt\n",
    "\n",
    "The bash command below will display the available options for model commands: count-frames, learn-model"
   ]
  },
  {
   "cell_type": "code",
   "execution_count": null,
   "metadata": {},
   "outputs": [],
   "source": [
    "%%bash\n",
    "moseq2-model --help"
   ]
  },
  {
   "cell_type": "markdown",
   "metadata": {},
   "source": [
    "## Fit the Model to the PC Scores\n",
    "\n",
    "Use the __moseq2-model__ tool to instantiate and train your model with the following bash command:"
   ]
  },
  {
   "cell_type": "code",
   "execution_count": null,
   "metadata": {},
   "outputs": [],
   "source": [
    "%%bash\n",
    "cd sample_session/\n",
    "moseq2-model learn-model _pca/pca_scores.h5 my_model.pkl"
   ]
  },
  {
   "cell_type": "raw",
   "metadata": {},
   "source": [
    "The standard output of the above successfully executed command is below:\n",
    "\n",
    "Will only save the last iteration of the model\n",
    "Entering modeling training\n",
    "Found pcs in scores\n",
    "Setting kappa to the number of frames: 900\n",
    "Whitening the training data using the whiten_all function\n",
    "Using model class FastARWeakLimitStickyHDPHMM\n",
    "Adding data from key c3ae3048-ef47-4b61-846c-c4f6af9be953\n",
    "Saving pickle ./my_model.pkl                     "
   ]
  },
  {
   "cell_type": "raw",
   "metadata": {},
   "source": [
    "The result is of this command a generated trained AR-HMM pickle (compressed) file in your base directory of the recorded session (shown below).\n",
    "\n",
    ".\n",
    "├── depth.dat\n",
    "├── depth_ts.txt\n",
    "├── metadata.json\n",
    "├── my_model.pkl **\n",
    "├── proc\n",
    "│   ├── bground.tiff\n",
    "│   ├── first_frame.tiff\n",
    "│   ├── results_00.h5\n",
    "│   ├── results_00.mp4\n",
    "│   ├── results_00.yaml\n",
    "│   └── roi_00.tiff\n",
    "├── _pca\n",
    "│   ├── changepoints_dist.pdf\n",
    "│   ├── changepoints_dist.png\n",
    "│   ├── changepoints.h5\n",
    "│   ├── pca_components.pdf\n",
    "│   ├── pca_components.png\n",
    "│   ├── pca_scores.h5\n",
    "│   ├── pca_scree.pdf\n",
    "│   ├── pca_scree.png\n",
    "│   ├── pca.h5\n",
    "│   ├── pca.yaml\n",
    "├── rgb.mp4\n",
    "└── rgb_ts.txt"
   ]
  },
  {
   "cell_type": "markdown",
   "metadata": {},
   "source": [
    "## Training Model with Free Parameters\n",
    "\n",
    "Below is a list of options/free parameters that users may configure to optimize their model fitting. __Most important free parameter is kappa__, which we typically set to the total number of frames in the dataset. That is, if you are modeling 2.56e6 frames."
   ]
  },
  {
   "cell_type": "code",
   "execution_count": null,
   "metadata": {},
   "outputs": [],
   "source": [
    "%%bash\n",
    "moseq2-model learn-model --help"
   ]
  },
  {
   "cell_type": "raw",
   "metadata": {},
   "source": [
    "For your convenience, we have provided all the free parameter flags below:\n",
    "\n",
    "Usage: moseq2-model learn-model [OPTIONS] INPUT_FILE DEST_FILE\n",
    "\n",
    "Options:\n",
    "  -h, --hold-out                Hold out one fold (set by nfolds) for\n",
    "                                computing heldout likelihood  [default: False]\n",
    "  --hold-out-seed INTEGER       Random seed for holding out data (set for\n",
    "                                reproducibility)  [default: -1]\n",
    "  --nfolds INTEGER              Number of folds for split  [default: 5]\n",
    "  -c, --ncpus INTEGER           Number of cores to use for resampling\n",
    "                                [default: 0]\n",
    "  -n, --num-iter INTEGER        Number of times to resample model  [default:\n",
    "                                100]\n",
    "  -r, --restarts INTEGER        Number of restarts for model  [default: 1]\n",
    "  --var-name TEXT               Variable name in input file with PCs\n",
    "                                [default: scores]\n",
    "  -s, --save-every INTEGER      Increment to save labels and model object (-1\n",
    "                                for just last)  [default: -1]\n",
    "  --save-model                  Save model object  [default: False]\n",
    "  -m, --max-states INTEGER      Maximum number of states  [default: 100]\n",
    "  -p, --model-progress BOOLEAN  Show model progress  [default: True]\n",
    "  --npcs INTEGER                Number of PCs to use  [default: 10]\n",
    "  -w, --whiten TEXT             Whiten (e)each (a)ll or (n)o whitening\n",
    "                                [default: all]\n",
    "  -k, --kappa FLOAT             Kappa\n",
    "  -g, --gamma FLOAT             Gamma  [default: 1000.0]\n",
    "  -g, --alpha FLOAT             Alpha  [default: 5.7]\n",
    "  --noise-level FLOAT           Additive white gaussian noise for\n",
    "                                regularization  [default: 0]\n",
    "  --nu FLOAT                    Nu (only applicable if robust set to true)\n",
    "                                [default: 4]\n",
    "  --nlags INTEGER               Number of lags to use  [default: 3]\n",
    "  --separate-trans              Use separate transition matrix per group\n",
    "                                [default: False]\n",
    "  --robust                      Use tAR model  [default: False]\n",
    "  --help                        Show this message and exit.  [default: False]"
   ]
  },
  {
   "cell_type": "code",
   "execution_count": null,
   "metadata": {},
   "outputs": [],
   "source": [
    "%%bash\n",
    "cd sample_session/\n",
    "moseq2-model learn-model --kappa 2.5e6 _pca/pca_scores.h5 my_model.pkl"
   ]
  },
  {
   "cell_type": "markdown",
   "metadata": {},
   "source": [
    "## Retrieving Result Labels\n",
    "\n",
    "The __nlags__ parameter denotes the number of lags in the model frame prediction, therefore the model will prepend (a default of 3) negative label integer elements to account for the lagged frames.\n",
    "\n",
    "Each integer in the results list corresponds to a syllable label, except of course for the first **nlags** elements."
   ]
  },
  {
   "cell_type": "code",
   "execution_count": null,
   "metadata": {},
   "outputs": [],
   "source": [
    "import joblib\n",
    "results = joblib.load('sample_session/my_model.pkl')\n",
    "print(results['labels'])"
   ]
  },
  {
   "cell_type": "markdown",
   "metadata": {},
   "source": [
    "## Next Step: Visualize The Results\n",
    "\n",
    "Now that we have generated a fitted and tuned model, we can start visualizing our model's performance on crowd videos, among other metrics. [Click here to view the visualization walkthrough](http://localhost:8888/notebooks/MoSeq2_Viz.ipynb)."
   ]
  }
 ],
 "metadata": {
  "kernelspec": {
   "display_name": "Python 3",
   "language": "python",
   "name": "python3"
  },
  "language_info": {
   "codemirror_mode": {
    "name": "ipython",
    "version": 3
   },
   "file_extension": ".py",
   "mimetype": "text/x-python",
   "name": "python",
   "nbconvert_exporter": "python",
   "pygments_lexer": "ipython3",
   "version": "3.6.9"
  }
 },
 "nbformat": 4,
 "nbformat_minor": 2
}
