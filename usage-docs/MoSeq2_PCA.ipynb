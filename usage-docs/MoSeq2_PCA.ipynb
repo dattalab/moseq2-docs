{
 "cells": [
  {
   "cell_type": "markdown",
   "metadata": {},
   "source": [
    "# Analysis: PCA\n",
    "\n",
    "Now that you have extracted data from a session, we can now use moseq2-pca to computer Principal Component (PC) coefficients, then compute the PC scores from the extraction."
   ]
  },
  {
   "cell_type": "raw",
   "metadata": {},
   "source": [
    "Assume the following folder structure post extraction:\n",
    "\n",
    ".\n",
    "├── depth.dat\n",
    "├── depth_ts.txt\n",
    "├── metadata.json\n",
    "├── proc\n",
    "│   ├── bground.tiff\n",
    "│   ├── first_frame.tiff\n",
    "│   ├── results_00.h5\n",
    "│   ├── results_00.mp4\n",
    "│   ├── results_00.yaml\n",
    "│   └── roi_00.tiff\n",
    "├── rgb.mp4\n",
    "└── rgb_ts.txt"
   ]
  },
  {
   "cell_type": "markdown",
   "metadata": {},
   "source": [
    "## How MoSeq2-PCA Works\n",
    "\n",
    "Moseq2-pca will recursively search for results.h5 files, so you can organize your directories however you like, as long as you are at least one directory up from the extractions.\n",
    "__(Note: you can perform PCA on more than one extracted session at once.)__"
   ]
  },
  {
   "cell_type": "markdown",
   "metadata": {},
   "source": [
    "You can find the full options that moseq2-pca by running the following bash command:"
   ]
  },
  {
   "cell_type": "code",
   "execution_count": null,
   "metadata": {},
   "outputs": [],
   "source": [
    "%%bash\n",
    "moseq2-pca --help"
   ]
  },
  {
   "cell_type": "markdown",
   "metadata": {},
   "source": [
    "## Perform PCA\n",
    "\n",
    "To perform PCA, enter the following bash command:"
   ]
  },
  {
   "cell_type": "code",
   "execution_count": null,
   "metadata": {},
   "outputs": [],
   "source": [
    "%%bash\n",
    "cd sample_session\n",
    "moseq2-pca train-pca"
   ]
  },
  {
   "cell_type": "raw",
   "metadata": {},
   "source": [
    "If you are running it on your local machine, you must press ENTER to confirm the computation. \n",
    "\n",
    "Below is the output from running the command:\n",
    "\n",
    "Press ENTER to continue...\n",
    "/Users/aymanzeine/anaconda3/envs/moseq2/lib/python3.6/site-packages/distributed/nanny.py:138: UserWarning: The local_dir keyword has moved to local_directory\n",
    "  warnings.warn(\"The local_dir keyword has moved to local_directory\")\n",
    "Processing 900 total frames\n",
    "[########################################] | 100% Completed |  0.0s\n",
    "Computing SVD...\n",
    "[########################################] | 100% Completed |  0.6s\n",
    "Calculation complete...\n",
    "\n",
    "Resulting in the following directory structure: (new files are marked by **)\n",
    "\n",
    ".\n",
    "├── depth.dat\n",
    "├── depth_ts.txt\n",
    "├── metadata.json\n",
    "├── proc\n",
    "│   ├── bground.tiff\n",
    "│   ├── first_frame.tiff\n",
    "│   ├── results_00.h5\n",
    "│   ├── results_00.mp4\n",
    "│   ├── results_00.yaml\n",
    "│   └── roi_00.tiff\n",
    "├── _pca **\n",
    "│   ├── pca_components.pdf **\n",
    "│   ├── pca_components.png **\n",
    "│   ├── pca_scree.pdf **\n",
    "│   ├── pca_scree.png **\n",
    "│   ├── pca.h5 **\n",
    "│   ├── pca.yaml **\n",
    "├── rgb.mp4\n",
    "└── rgb_ts.txt"
   ]
  },
  {
   "cell_type": "markdown",
   "metadata": {},
   "source": [
    "## Generated Graphs\n",
    "\n",
    "Below is a PCA generated image depicting the first 50 components of the input file __results_00.h5__, and a corresponding scree plot respectively.\n",
    "\n",
    "<img src=\"media/pca_components.png\" alt=\"Top 50 PCA components from extracted data\" title=\"PCA Components\" />\n",
    "\n",
    "<img src=\"media/pca_scree.png\" alt=\"PCA Scree Plot\" title=\"PCA Scree\" />\n"
   ]
  },
  {
   "cell_type": "markdown",
   "metadata": {},
   "source": [
    "__Note that running locally can be fairly slow, we typically run our PCA and modeling on Google Compute Engine using Slurm. If you have a GCE Slurm cluster running (or Slurm locally), you need to start the analysis from an interactive node. Please refer to the Slurm jupyter notebook for walkthrough of batched processing/cloud computing.__"
   ]
  },
  {
   "cell_type": "markdown",
   "metadata": {},
   "source": [
    "## Applying PCA\n",
    "\n",
    "To apply the trained PCA components, run the following command: (ensure your pwd is a directory containing _pca/)"
   ]
  },
  {
   "cell_type": "code",
   "execution_count": null,
   "metadata": {},
   "outputs": [],
   "source": [
    "%%bash\n",
    "cd sample_session/\n",
    "moseq2-pca apply-pca"
   ]
  },
  {
   "cell_type": "raw",
   "metadata": {},
   "source": [
    "Below is the output of the apply-pca command:\n",
    "\n",
    "Loading PCs from sample_session/_pca/pca.h5\n",
    "/anaconda3/envs/moseq2/lib/python3.6/site-packages/moseq2_pca/util.py:308: UserWarning: ncpus or memory out of range, setting to 1 cores, 8 workers, 2.0GB mem per worker\n",
    "!!!IF YOU ARE RUNNING ON A CLUSTER MAKE SURE THESE SETTINGS ARE CORRECT!!!\n",
    "  warnings.warn(warning_string)\n",
    "Press ENTER to continue...\n",
    "/Users/aymanzeine/anaconda3/envs/moseq2/lib/python3.6/site-packages/distributed/worker.py:472: UserWarning: The local_dir keyword has moved to local_directory\n",
    "  warnings.warn(\"The local_dir keyword has moved to local_directory\")\n",
    "Computing scores (batch 1/1): 100%|███████████████| 1/1 [00:00<00:00,  4.13it/s]"
   ]
  },
  {
   "cell_type": "raw",
   "metadata": {},
   "source": [
    "By the end of the PCA process this is what your directory structure should look like: (new files are marked by **)\n",
    ".\n",
    "├── depth.dat\n",
    "├── depth_ts.txt\n",
    "├── metadata.json\n",
    "├── proc\n",
    "│   ├── bground.tiff\n",
    "│   ├── first_frame.tiff\n",
    "│   ├── results_00.h5\n",
    "│   ├── results_00.mp4\n",
    "│   ├── results_00.yaml\n",
    "│   └── roi_00.tiff\n",
    "├── _pca\n",
    "│   ├── pca_components.pdf\n",
    "│   ├── pca_components.png\n",
    "│   ├── pca_scores.h5 **\n",
    "│   ├── pca_scree.pdf\n",
    "│   ├── pca_scree.png\n",
    "│   ├── pca.h5\n",
    "│   ├── pca.yaml\n",
    "├── rgb.mp4\n",
    "└── rgb_ts.txt"
   ]
  },
  {
   "cell_type": "markdown",
   "metadata": {},
   "source": [
    "## Next Step: Compute Model-Free Changepoints\n",
    "\n",
    "Now that PCA analysis is complete, we can move forward to computing model-free changepoints. [Click here to view the walkthrough](http://localhost:8888/notebooks/MoSeq2_Changepoints.ipynb)."
   ]
  }
 ],
 "metadata": {
  "kernelspec": {
   "display_name": "Python 3",
   "language": "python",
   "name": "python3"
  },
  "language_info": {
   "codemirror_mode": {
    "name": "ipython",
    "version": 3
   },
   "file_extension": ".py",
   "mimetype": "text/x-python",
   "name": "python",
   "nbconvert_exporter": "python",
   "pygments_lexer": "ipython3",
   "version": "3.6.9"
  }
 },
 "nbformat": 4,
 "nbformat_minor": 2
}
