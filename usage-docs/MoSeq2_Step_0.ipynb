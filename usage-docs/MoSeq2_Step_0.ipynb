{
 "cells": [
  {
   "cell_type": "markdown",
   "metadata": {},
   "source": [
    "# MoSeq2: Usage and Setup\n",
    "\n",
    "MoSeq2 (Motion Sequencing) is an open-source Python library containing tools to collect, extract and model 3D behavioral data collected using commercial 3D sensors.\n",
    "\n",
    "Below is a list of (stable) tools that are currently available for use:\n",
    " - [jupyter moseq2-extract](http://localhost:8888/notebooks/MoSeq2_Step_1.ipynb) || [github link](https://github.com/dattalab/moseq2-docs/blob/ayman/usage-docs/MoSeq2_Step_1.ipynb)\n",
    " - [jupyter moseq2-pca](http://localhost:8888/notebooks/MoSeq2_Step_2.ipynb) || [github link](https://github.com/dattalab/moseq2-docs/blob/ayman/usage-docs/MoSeq2_Step_2.ipynb)\n",
    "     - [jupyter compute-changepoints](http://localhost:8888/notebooks/MoSeq2_Step_3.ipynb) || [github link](https://github.com/dattalab/moseq2-docs/blob/ayman/usage-docs/MoSeq2_Step_3.ipynb)\n",
    " - [jupyter moseq2-model](http://localhost:8888/notebooks/MoSeq2_Step_4.ipynb) || [github link](https://github.com/dattalab/moseq2-docs/blob/ayman/usage-docs/MoSeq2_Step_4.ipynb)\n",
    " - [jupyter moseq2-viz](http://localhost:8888/notebooks/MoSeq2_Step_5.ipynb) || [github link](https://github.com/dattalab/moseq2-docs/blob/ayman/usage-docs/MoSeq2_Step_5.ipynb)\n",
    "     - [jupyter stat-testing](http://localhost:8888/notebooks/MoSeq2_Step_6.ipynb) || [github link](https://github.com/dattalab/moseq2-docs/blob/ayman/usage-docs/MoSeq2_Step_6.ipynb)\n",
    " - [jupyter moseq2-batch](http://localhost:8888/notebooks/MoSeq2_Batch.ipynb) || [github link](https://github.com/dattalab/moseq2-docs/blob/ayman/usage-docs/MoSeq2_Batch.ipynb)\n",
    " \n",
    "MoSeq2 is designed to be used in a sequential end-to-end fashion: once the 3D data is collected, users can then perform many different exploratory analysis techniques such as ROI analysis, PCA, and data vizualization. Examples for usage of each tool will be outlined in separate jupyter notebooks (linked above)."
   ]
  },
  {
   "cell_type": "markdown",
   "metadata": {},
   "source": [
    "## MoSeq2 Usage Pipeline\n",
    "<img src=\"media/moseq2_pipeline.png\" alt=\"Sequential MoSeq2 Usage Pattern\" title=\"MoSeq2 Pipeline\" />\n",
    "Note: These jupyter notebooks will be focusing on steps 2-7 to give users an in-depth explanation on how to perform data analysis using MoSeq2."
   ]
  },
  {
   "cell_type": "markdown",
   "metadata": {},
   "source": [
    "# MoSeq2 Software Requirements\n",
    "\n",
    "In order to successfully install MoSeq2, we recommend you ensure you have the following libraries and packages already installed:\n",
    " - All Platforms:\n",
    "     - anaconda3/miniconda3\n",
    "     - python3.6\n",
    "     - git\n",
    "     - gcc-7 and g++-7 (ensure this version is default)\n",
    "     - numpy\n",
    "     - pip\n",
    "     - Conda Environment:\n",
    "         - ffmpeg\n",
    "     - CentOS:\n",
    "         - libSM\n",
    "     - MacOS:\n",
    "         - latest version of XCode"
   ]
  },
  {
   "cell_type": "markdown",
   "metadata": {},
   "source": [
    "## Installing and Setting Up Miniconda3\n",
    "\n",
    "### Installation\n",
    "**On Linux, run:**"
   ]
  },
  {
   "cell_type": "code",
   "execution_count": null,
   "metadata": {},
   "outputs": [],
   "source": [
    "%%bash\n",
    "curl https://repo.continuum.io/miniconda/Miniconda3-latest-Linux-x86_64.sh -o \"$HOME/miniconda3_latest.sh\"\n",
    "chmod +x $HOME/miniconda3_latest.sh\n",
    "$HOME/miniconda3_latest.sh -b -p $HOME/miniconda3"
   ]
  },
  {
   "cell_type": "markdown",
   "metadata": {},
   "source": [
    "**On MacOS, run:**"
   ]
  },
  {
   "cell_type": "code",
   "execution_count": null,
   "metadata": {},
   "outputs": [],
   "source": [
    "%%bash\n",
    "curl https://repo.anaconda.com/miniconda/Miniconda3-latest-MacOSX-x86_64.sh -o \"$HOME/miniconda3_latest.sh\"\n",
    "chmod +x $HOME/miniconda3_latest.sh\n",
    "$HOME/miniconda3_latest.sh -b -p $HOME/miniconda3"
   ]
  },
  {
   "cell_type": "markdown",
   "metadata": {},
   "source": [
    "**On Windows 10,**\n",
    "\n",
    "Ensure you have the [Debian WSL](https://www.microsoft.com/en-us/p/debian/9msvkqc78pk6?activetab=pivot%3Aoverviewtab) installed from the Windows store which will allow you to run a bash terminal.\n",
    "\n",
    "Once it is set up, run:"
   ]
  },
  {
   "cell_type": "code",
   "execution_count": null,
   "metadata": {},
   "outputs": [],
   "source": [
    "%%bash\n",
    "sudo apt-get update\n",
    "sudo apt-get install git build-essential curl libxrender-dev libsm6 libglib2.0-0\n",
    "curl https://repo.continuum.io/miniconda/Miniconda3-latest-Linux-x86_64.sh -o \"$HOME/miniconda3_latest.sh\"\n",
    "chmod +x $HOME/miniconda3_latest.sh\n",
    "$HOME/miniconda3_latest.sh -b -p $HOME/miniconda3"
   ]
  },
  {
   "cell_type": "markdown",
   "metadata": {},
   "source": [
    " ## Miniconda Setup\n",
    " \n",
    " Add the appropriate lines to your __.bashrc__ file (or __.bash_profile__ on MacOS)"
   ]
  },
  {
   "cell_type": "code",
   "execution_count": null,
   "metadata": {},
   "outputs": [],
   "source": [
    "%%bash\n",
    "cat >> ~/.bashrc << END\n",
    "PATH=\\$HOME/miniconda3/bin:\\$PATH\n",
    "END\n",
    "source $HOME/.bashrc"
   ]
  },
  {
   "cell_type": "markdown",
   "metadata": {},
   "source": [
    "### Create Conda Virtual Environment\n",
    "In order to create and start using your miniconda environment, run the following commands:"
   ]
  },
  {
   "cell_type": "code",
   "execution_count": null,
   "metadata": {},
   "outputs": [],
   "source": [
    "%%bash\n",
    "conda create -n \"moseq2\" python=3.6 -y\n",
    "source activate moseq2"
   ]
  },
  {
   "cell_type": "markdown",
   "metadata": {},
   "source": [
    "#### Install conda dependency\n",
    "\n",
    "Make sure you install ffmpeg in the moseq2 environment, since the pipeline makes heavy use of it."
   ]
  },
  {
   "cell_type": "code",
   "execution_count": null,
   "metadata": {},
   "outputs": [],
   "source": [
    "%%bash\n",
    "conda install -c conda-forge ffmpeg "
   ]
  },
  {
   "cell_type": "markdown",
   "metadata": {},
   "source": [
    "Now that your conda environment is set up, lets ensure your C/C++ compiler versions are correct in order to install all the tools successfully.\n",
    "\n",
    "### Setting a default gcc/g++ compiler\n",
    "\n",
    "To check which version of gcc is currently used run:"
   ]
  },
  {
   "cell_type": "code",
   "execution_count": null,
   "metadata": {},
   "outputs": [],
   "source": [
    "%%bash\n",
    "gcc -v"
   ]
  },
  {
   "cell_type": "markdown",
   "metadata": {},
   "source": [
    "To check if you have the correct gcc/g++ compiler version run:"
   ]
  },
  {
   "cell_type": "code",
   "execution_count": null,
   "metadata": {},
   "outputs": [],
   "source": [
    "%%bash\n",
    "ls /usr/local/bin/gcc*"
   ]
  },
  {
   "cell_type": "markdown",
   "metadata": {},
   "source": [
    "To set your compilers to the correct version run:"
   ]
  },
  {
   "cell_type": "code",
   "execution_count": null,
   "metadata": {},
   "outputs": [],
   "source": [
    "%%bash\n",
    "export CC=/usr/local/bin/gcc-7\n",
    "export CXX=/usr/local/bin/g++-7"
   ]
  },
  {
   "cell_type": "markdown",
   "metadata": {},
   "source": [
    "# Installing latest MoSeq2 Repositories\n",
    "\n",
    "Once you have set up your environment and installed all the prerequisite packages, you are now ready to install the MoSeq2 tools."
   ]
  },
  {
   "cell_type": "code",
   "execution_count": null,
   "metadata": {},
   "outputs": [],
   "source": [
    "%%bash \n",
    "source activate moseq2\n",
    "pip install --upgrade pip\n",
    "pip install git+https://github.com/dattalab/moseq2-extract.git\n",
    "pip install git+https://github.com/dattalab/moseq2-pca.git\n",
    "pip install git+https://github.com/dattalab/moseq2-model.git\n",
    "pip install git+https://github.com/dattalab/moseq2-viz.git"
   ]
  },
  {
   "cell_type": "markdown",
   "metadata": {},
   "source": [
    "## Optionally, if you want to use batch functionality, install moseq2-batch:"
   ]
  },
  {
   "cell_type": "code",
   "execution_count": null,
   "metadata": {},
   "outputs": [],
   "source": [
    "%%bash\n",
    "git clone https://github.com/dattalab/moseq2-batch.git $HOME/python_repos/moseq2-batch\n",
    "pip install -e $HOME/python_repos/moseq2-batch"
   ]
  },
  {
   "cell_type": "markdown",
   "metadata": {},
   "source": [
    "**For a walkthrough on MoSeq2-batch** [click here](http://localhost:8888/notebooks/MoSeq2_Batch.ipynb)."
   ]
  },
  {
   "cell_type": "markdown",
   "metadata": {},
   "source": [
    "# Begin Analysis\n",
    "Once successfully completed installation, you are now ready to use MoSeq2! \n",
    "\n",
    "If you have some prerecorded data, [click here to view a moseq2-extract tutorial.](http://localhost:8888/notebooks/MoSeq2_Step_1.ipynb) || [github link](https://github.com/dattalab/moseq2-docs/blob/ayman/usage-docs/MoSeq2_Step_1.ipynb)\n",
    "\n",
    "<font color=red>__Note: In order to access the MoSeq2 tools in the jupyter notebooks, you must have launched the jupyter notebook while your conda environment is still active. If your jupyter notebook is not running in your conda environment: simply close it:__</font>\n",
    "\n",
    "1. run the bash command: __source activate moseq2__ \n",
    "\n",
    "2. open the run the jupyter notebook again with: __jupyter notebook__"
   ]
  }
 ],
 "metadata": {
  "kernelspec": {
   "display_name": "Python 3",
   "language": "python",
   "name": "python3"
  },
  "language_info": {
   "codemirror_mode": {
    "name": "ipython",
    "version": 3
   },
   "file_extension": ".py",
   "mimetype": "text/x-python",
   "name": "python",
   "nbconvert_exporter": "python",
   "pygments_lexer": "ipython3",
   "version": "3.6.9"
  }
 },
 "nbformat": 4,
 "nbformat_minor": 2
}
