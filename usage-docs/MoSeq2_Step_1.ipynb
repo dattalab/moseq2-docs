{
 "cells": [
  {
   "cell_type": "markdown",
   "metadata": {},
   "source": [
    "# Analysis: Data Extraction\n",
    "\n",
    "After data is acquired, it must be extracted from its raw data format in order for it to be properly processed."
   ]
  },
  {
   "cell_type": "markdown",
   "metadata": {},
   "source": [
    "In order to follow along with this notebook, we have provided an example of a good recording [here](https://storage.googleapis.com/moseq2-examples/good-session.tar.gz).\n",
    "\n",
    "Unzipping the folder you should see the following directory structure:"
   ]
  },
  {
   "cell_type": "markdown",
   "metadata": {},
   "source": [
    "<img src=\"media/extract-dirstruct.png\" alt=\"Starting directory structure\" title=\"Starting Directory Structure\" />"
   ]
  },
  {
   "cell_type": "markdown",
   "metadata": {},
   "source": [
    "You can now use moseq2-extract to perform extraction and alignment of the mouse from the raw depth videos.\n",
    "\n",
    "## MoSeq2-Extract\n",
    "For a full list of available options, run the following bash command:"
   ]
  },
  {
   "cell_type": "code",
   "execution_count": null,
   "metadata": {},
   "outputs": [],
   "source": [
    "%%bash\n",
    "moseq2-extract --help"
   ]
  },
  {
   "cell_type": "markdown",
   "metadata": {},
   "source": [
    "## Generating a Configuration File\n",
    "In order to easily view/edit/execute all of your extraction command line parameters of choice, you will need to generate a configuration file.\n",
    "To do that run the following command:"
   ]
  },
  {
   "cell_type": "code",
   "execution_count": null,
   "metadata": {},
   "outputs": [],
   "source": [
    "%%bash\n",
    "moseq2-extract generate-config"
   ]
  },
  {
   "cell_type": "markdown",
   "metadata": {},
   "source": [
    "Once that is done, you will end up with the following file, default titled: config.yaml"
   ]
  },
  {
   "cell_type": "markdown",
   "metadata": {},
   "source": [
    "```\n",
    "crop_size:\n",
    "- 80\n",
    "- 80\n",
    "bg_roi_dilate:\n",
    "- 10\n",
    "- 10\n",
    "bg_roi_shape: ellipse\n",
    "bg_roi_index: 0\n",
    "bg_roi_weights:\n",
    "- 1\n",
    "- 0.1\n",
    "- 1\n",
    "bg_roi_depth_range:\n",
    "- 650\n",
    "- 750\n",
    "bg_roi_gradient_filter: false\n",
    "bg_roi_gradient_threshold: 3000\n",
    "bg_roi_gradient_kernel: 7\n",
    "bg_roi_fill_holes: true\n",
    "min_height: 10\n",
    "max_height: 100\n",
    "fps: 30\n",
    "flip_classifier: \n",
    "flip_classifier_smoothing: 51\n",
    "use_tracking_model: false\n",
    "tracking_model_ll_threshold: -100\n",
    "tracking_model_mask_threshold: -16\n",
    "tracking_model_ll_clip: -100\n",
    "tracking_model_segment: true\n",
    "tracking_model_init: raw\n",
    "cable_filter_iters: 0\n",
    "cable_filter_shape: rectangle\n",
    "cable_filter_size:\n",
    "- 5\n",
    "- 5\n",
    "tail_filter_iters: 1\n",
    "tail_filter_size:\n",
    "- 9\n",
    "- 9\n",
    "tail_filter_shape: ellipse\n",
    "spatial_filter_size:\n",
    "- 3\n",
    "temporal_filter_size:\n",
    "- 0\n",
    "chunk_size: 1000\n",
    "chunk_overlap: 0\n",
    "output_dir:\n",
    "write_movie: true\n",
    "use_plane_bground: false\n",
    "frame_dtype: uint8\n",
    "centroid_hampel_span: 0\n",
    "centroid_hampel_sig: 3\n",
    "angle_hampel_span: 0\n",
    "angle_hampel_sig: 3\n",
    "model_smoothing_clips:\n",
    "- 0\n",
    "- 0\n",
    "frame_trim:\n",
    "- 0\n",
    "- 0\n",
    "compress: false\n",
    "compress_chunk_size: 3000\n",
    "compress_threads: 3\n",
    "config_file:\n",
    "```"
   ]
  },
  {
   "cell_type": "markdown",
   "metadata": {},
   "source": [
    "Note: you may remove some of the above parameters in the configuration file to fit your specific experiment. __This is only done if your data/experiment is different from that which MoSeq affords.__"
   ]
  },
  {
   "cell_type": "markdown",
   "metadata": {},
   "source": [
    "# Extracting Data\n",
    "\n",
    "To extract data, simply run the following command on any __depth.dat__ file:"
   ]
  },
  {
   "cell_type": "code",
   "execution_count": null,
   "metadata": {},
   "outputs": [],
   "source": [
    "%%bash\n",
    "moseq2-extract extract sample_session/depth.dat"
   ]
  },
  {
   "cell_type": "markdown",
   "metadata": {},
   "source": [
    "To run an extraction with your generated configuration file, run the extract command with the --config-file flag:"
   ]
  },
  {
   "cell_type": "code",
   "execution_count": null,
   "metadata": {},
   "outputs": [],
   "source": [
    "%%bash\n",
    "moseq2-extract extract sample_session/depth.dat --config-file config.yaml"
   ]
  },
  {
   "cell_type": "markdown",
   "metadata": {},
   "source": [
    "# Extraction Result\n",
    "\n",
    "This automatically select an ROI and extract data to the proc folder where depth.dat is located. When the extraction is completely, the results are stored in proc/results.h5, and a movie of the extraction is stored in proc/results.mp4.\n",
    "\n",
    "Below is what the results.mp4 video should look like:\n",
    "\n",
    "<img src=\"media/extracted_video.gif\" alt=\"Generated video from raw data\" title=\"Extracted Video\" />"
   ]
  },
  {
   "cell_type": "markdown",
   "metadata": {},
   "source": [
    "## flip-classifier\n",
    "You will likely want to use a flip-classifier, which corrects for any 180 degree ambiguities in the angle detection. To download one of the pre-trained classifiers, use this command:"
   ]
  },
  {
   "cell_type": "code",
   "execution_count": null,
   "metadata": {},
   "outputs": [],
   "source": [
    "%%bash\n",
    "moseq2-extract download-flip-file"
   ]
  },
  {
   "cell_type": "markdown",
   "metadata": {},
   "source": [
    "<img src=\"media/extract-flipout.png\" title=\"Download Flip-File Command Output\" />"
   ]
  },
  {
   "cell_type": "markdown",
   "metadata": {},
   "source": [
    "After downloading, you can then use the flip-classifier option with moseq-extract:\n",
    "\n",
    "__(Note: if an extraction has already been made in the same directory, a second extraction may fail because they do not replace older versions of extracted data)__"
   ]
  },
  {
   "cell_type": "code",
   "execution_count": null,
   "metadata": {},
   "outputs": [],
   "source": [
    "%%bash\n",
    "moseq2-extract extract sample_session/depth.dat --flip-classifier ~/moseq2/new_flip_classifier.pkl"
   ]
  },
  {
   "cell_type": "markdown",
   "metadata": {},
   "source": [
    "<img src=\"media/extract-endstruct.png\" alt=\"Ending directory structure\" title=\"Ending Directory Structure\" />"
   ]
  },
  {
   "cell_type": "markdown",
   "metadata": {},
   "source": [
    "A jupyter notebook tutorial for [training a flip classifier can be found here](https://github.com/dattalab/moseq2-docs/blob/master/notebooks/training_a_flip_classifier.ipynb)\n",
    "\n",
    "## Next Step: PCA Computation\n",
    "\n",
    "This concludes the extraction step. [click here](http://localhost:8888/notebooks/MoSeq2_Step_2.ipynb) to view the MoSeq2-PCA walkthrough. || [github link](https://github.com/dattalab/moseq2-docs/blob/master/usage-docs/MoSeq2_Step_2.ipynb)"
   ]
  }
 ],
 "metadata": {
  "kernelspec": {
   "display_name": "Python 3",
   "language": "python",
   "name": "python3"
  },
  "language_info": {
   "codemirror_mode": {
    "name": "ipython",
    "version": 3
   },
   "file_extension": ".py",
   "mimetype": "text/x-python",
   "name": "python",
   "nbconvert_exporter": "python",
   "pygments_lexer": "ipython3",
   "version": "3.7.3"
  }
 },
 "nbformat": 4,
 "nbformat_minor": 2
}
