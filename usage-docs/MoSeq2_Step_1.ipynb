{
 "cells": [
  {
   "cell_type": "markdown",
   "metadata": {},
   "source": [
    "# Analysis: Data Extraction\n",
    "\n",
    "After data is acquired, it must be extracted from its raw data format in order for it to be properly processed."
   ]
  },
  {
   "cell_type": "markdown",
   "metadata": {},
   "source": [
    "In order to follow along with this notebook, we have provided an example of a good recording [here](https://storage.googleapis.com/moseq2-examples/good-session.tar.gz).\n",
    "\n",
    "Unzipping the folder you should see the following directory structure:"
   ]
  },
  {
   "cell_type": "markdown",
   "metadata": {},
   "source": [
    "<img src=\"media/extract-dirstruct.png\" alt=\"Starting directory structure\" title=\"Starting Directory Structure\" />"
   ]
  },
  {
   "cell_type": "markdown",
   "metadata": {},
   "source": [
    "You can now use moseq2-extract to perform extraction and alignment of the mouse from the raw depth videos.\n",
    "\n",
    "## MoSeq2-Extract\n",
    "For a full list of available options, run the following bash command:"
   ]
  },
  {
   "cell_type": "code",
   "execution_count": 1,
   "metadata": {},
   "outputs": [
    {
     "name": "stdout",
     "output_type": "stream",
     "text": [
      "Usage: moseq2-extract [OPTIONS] COMMAND [ARGS]...\n",
      "\n",
      "Options:\n",
      "  --help  Show this message and exit.  [default: False]\n",
      "\n",
      "Commands:\n",
      "  convert-raw-to-avi\n",
      "  copy-slice\n",
      "  download-flip-file\n",
      "  extract\n",
      "  find-roi\n",
      "  generate-config\n"
     ]
    }
   ],
   "source": [
    "%%bash\n",
    "moseq2-extract --help"
   ]
  },
  {
   "cell_type": "markdown",
   "metadata": {},
   "source": [
    "# Extracting Data\n",
    "\n",
    "To extract data, simply run the following command on any __depth.dat__ file:"
   ]
  },
  {
   "cell_type": "code",
   "execution_count": null,
   "metadata": {},
   "outputs": [],
   "source": [
    "%%bash\n",
    "moseq2-extract extract sample_session/depth.dat"
   ]
  },
  {
   "cell_type": "markdown",
   "metadata": {},
   "source": [
    "# Extraction Result\n",
    "\n",
    "This automatically select an ROI and extract data to the proc folder where depth.dat is located. When the extraction is completely, the results are stored in proc/results.h5, and a movie of the extraction is stored in proc/results.mp4.\n",
    "\n",
    "Below is what the results.mp4 video should look like:\n",
    "\n",
    "<img src=\"media/extracted_video.gif\" alt=\"Generated video from raw data\" title=\"Extracted Video\" />"
   ]
  },
  {
   "cell_type": "markdown",
   "metadata": {},
   "source": [
    "## flip-classifier\n",
    "You will likely want to use a flip-classifier, which corrects for any 180 degree ambiguities in the angle detection. To download one of the pre-trained classifiers, use this command:"
   ]
  },
  {
   "cell_type": "code",
   "execution_count": null,
   "metadata": {},
   "outputs": [],
   "source": [
    "%%bash\n",
    "moseq2-extract download-flip-file"
   ]
  },
  {
   "cell_type": "markdown",
   "metadata": {},
   "source": [
    "<img src=\"media/extract-flipout.png\" title=\"Download Flip-File Command Output\" />"
   ]
  },
  {
   "cell_type": "markdown",
   "metadata": {},
   "source": [
    "After downloading, you can then use the flip-classifier option with moseq-extract:\n",
    "\n",
    "__(Note: if an extraction has already been made in the same directory, a second extraction may fail because they do not replace older versions of extracted data)__"
   ]
  },
  {
   "cell_type": "code",
   "execution_count": null,
   "metadata": {},
   "outputs": [],
   "source": [
    "%%bash\n",
    "moseq2-extract extract sample_session/depth.dat --flip-classifier ~/moseq2/new_flip_classifier.pkl"
   ]
  },
  {
   "cell_type": "markdown",
   "metadata": {},
   "source": [
    "<img src=\"media/extract-endstruct.png\" alt=\"Ending directory structure\" title=\"Ending Directory Structure\" />"
   ]
  },
  {
   "cell_type": "markdown",
   "metadata": {},
   "source": [
    "A jupyter notebook tutorial for [training a flip classifier can be found here](https://github.com/dattalab/moseq2-docs/blob/master/notebooks/training_a_flip_classifier.ipynb)\n",
    "\n",
    "## Next Step: PCA Computation\n",
    "\n",
    "This concludes the extraction step. [click here](http://localhost:8888/notebooks/MoSeq2_Step_2.ipynb) to view the MoSeq2-PCA walkthrough. || [github link](https://github.com/dattalab/moseq2-docs/blob/master/usage-docs/MoSeq2_Step_2.ipynb)"
   ]
  }
 ],
 "metadata": {
  "kernelspec": {
   "display_name": "Python 3",
   "language": "python",
   "name": "python3"
  },
  "language_info": {
   "codemirror_mode": {
    "name": "ipython",
    "version": 3
   },
   "file_extension": ".py",
   "mimetype": "text/x-python",
   "name": "python",
   "nbconvert_exporter": "python",
   "pygments_lexer": "ipython3",
   "version": "3.6.4"
  }
 },
 "nbformat": 4,
 "nbformat_minor": 2
}
