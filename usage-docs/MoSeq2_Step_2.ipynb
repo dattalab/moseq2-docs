{
 "cells": [
  {
   "cell_type": "markdown",
   "metadata": {},
   "source": [
    "# Analysis: PCA\n",
    "\n",
    "Now that you have extracted data from a session, we can now use moseq2-pca to computer Principal Component (PC) coefficients, then compute the PC scores from the extraction."
   ]
  },
  {
   "cell_type": "markdown",
   "metadata": {},
   "source": [
    "<img src=\"media/PCA-dirstruct.png\" alt=\"Starting directory structure\" title=\"Starting Directory Structure\" />"
   ]
  },
  {
   "cell_type": "markdown",
   "metadata": {},
   "source": [
    "## How MoSeq2-PCA Works\n",
    "\n",
    "Moseq2-pca will recursively search for results.h5 files, so you can organize your directories however you like, as long as you are at least one directory up from the extractions.\n",
    "__(Note: you can perform PCA on more than one extracted session at once.)__"
   ]
  },
  {
   "cell_type": "markdown",
   "metadata": {},
   "source": [
    "You can find the full options that moseq2-pca by running the following bash command:"
   ]
  },
  {
   "cell_type": "code",
   "execution_count": null,
   "metadata": {},
   "outputs": [],
   "source": [
    "%%bash\n",
    "moseq2-pca --help"
   ]
  },
  {
   "cell_type": "markdown",
   "metadata": {},
   "source": [
    "## Perform PCA\n",
    "\n",
    "To perform PCA, enter the following bash command:"
   ]
  },
  {
   "cell_type": "code",
   "execution_count": null,
   "metadata": {},
   "outputs": [],
   "source": [
    "%%bash\n",
    "cd sample_session\n",
    "moseq2-pca train-pca"
   ]
  },
  {
   "cell_type": "markdown",
   "metadata": {},
   "source": [
    "<img src=\"media/pca-middir.png\" title=\"Directory Structure After PCA\" />"
   ]
  },
  {
   "cell_type": "markdown",
   "metadata": {},
   "source": [
    "## Generated Graphs\n",
    "\n",
    "Below is a PCA generated image depicting the first 50 components of the input file __results_00.h5__, and a corresponding scree plot respectively.\n",
    "\n",
    "### PCA Plot\n",
    "<img src=\"media/pca_components.png\" alt=\"Top 50 PCA components from extracted data\" title=\"PCA Components\" />\n",
    "\n",
    "\n",
    "### Scree Plot\n",
    "<img src=\"media/pca_scree.png\" alt=\"PCA Scree Plot\" title=\"PCA Scree\" />\n"
   ]
  },
  {
   "cell_type": "markdown",
   "metadata": {},
   "source": [
    "__Note that running locally can be fairly slow, we typically run our PCA and modeling on Google Compute Engine using Slurm. If you have a GCE Slurm cluster running (or Slurm locally), you need to start the analysis from an interactive node. Please refer to the Slurm documentation for an introduction to batched processing/cloud computing [here](https://slurm.schedmd.com/documentation.html).__"
   ]
  },
  {
   "cell_type": "markdown",
   "metadata": {},
   "source": [
    "## Applying PCA\n",
    "\n",
    "To apply the trained PCA components, run the following command: (ensure your pwd is a directory containing _pca/)"
   ]
  },
  {
   "cell_type": "code",
   "execution_count": null,
   "metadata": {},
   "outputs": [],
   "source": [
    "%%bash\n",
    "cd sample_session/\n",
    "moseq2-pca apply-pca"
   ]
  },
  {
   "cell_type": "markdown",
   "metadata": {},
   "source": [
    "<img src=\"media/pca-out.png\" title=\"Apply PCA Output\" />"
   ]
  },
  {
   "cell_type": "markdown",
   "metadata": {},
   "source": [
    "<img src=\"media/PCA-endstruct.png\" alt=\"Ending directory structure\" title=\"Final Directory Structure\" />"
   ]
  },
  {
   "cell_type": "markdown",
   "metadata": {},
   "source": [
    "## Next Step: Compute Model-Free Changepoints\n",
    "\n",
    "Now that PCA analysis is complete, we can move forward to computing model-free changepoints. [Click here to view the walkthrough](http://localhost:8888/notebooks/MoSeq2_Step_3.ipynb) || [github link](https://github.com/dattalab/moseq2-docs/blob/master/usage-docs/MoSeq2_Step_3.ipynb)."
   ]
  }
 ],
 "metadata": {
  "kernelspec": {
   "display_name": "Python 3",
   "language": "python",
   "name": "python3"
  },
  "language_info": {
   "codemirror_mode": {
    "name": "ipython",
    "version": 3
   },
   "file_extension": ".py",
   "mimetype": "text/x-python",
   "name": "python",
   "nbconvert_exporter": "python",
   "pygments_lexer": "ipython3",
   "version": "3.6.4"
  }
 },
 "nbformat": 4,
 "nbformat_minor": 2
}
