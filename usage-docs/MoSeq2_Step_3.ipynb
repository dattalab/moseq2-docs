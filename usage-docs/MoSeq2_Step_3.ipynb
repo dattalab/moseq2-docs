{
 "cells": [
  {
   "cell_type": "markdown",
   "metadata": {},
   "source": [
    "# Analysis: Compute Model-Free Changepoints\n",
    "\n",
    "Model-free changepoints are used to compare with your future models' fits. They are computed using the __moseq2-pca__ tool. \n",
    "\n",
    "Consider the following directory structure:"
   ]
  },
  {
   "cell_type": "markdown",
   "metadata": {},
   "source": [
    "<img src=\"media/cp-dirstruct.png\" alt=\"Starting directory structure\" title=\"Starting Directory Structure\" />\n",
    "\n",
    "Run the following command to compute the changepoints:"
   ]
  },
  {
   "cell_type": "markdown",
   "metadata": {},
   "source": [
    "## Compute Changepoints"
   ]
  },
  {
   "cell_type": "code",
   "execution_count": null,
   "metadata": {},
   "outputs": [],
   "source": [
    "%%bash\n",
    "cd sample_session\n",
    "moseq2-pca compute-changepoints"
   ]
  },
  {
   "cell_type": "markdown",
   "metadata": {},
   "source": [
    "<img src=\"media/cp-output.png\" title=\"ChangePoints Command Output\" />"
   ]
  },
  {
   "cell_type": "markdown",
   "metadata": {},
   "source": [
    "## Changepoints Plot\n",
    "\n",
    "This command produces a plot of the changepoints distribution, which may look like this:\n",
    "\n",
    "<img src=\"media/changepoints_dist.png\" title=\"Model-Free Changepoints\" />\n",
    "\n",
    "While __changepoints.h5__ contains the data used to calculate this distribution."
   ]
  },
  {
   "cell_type": "markdown",
   "metadata": {},
   "source": [
    "## Next Step: Model the Data\n",
    "\n",
    "Now that we have extracted some data, trained up the PC coefficients and computed the PC scores, we are able to fit a AR-HMM model to our data. [Click here to view the modeling walkthrough](http://localhost:8888/notebooks/MoSeq2_Step_4.ipynb) || [github link](https://github.com/dattalab/moseq2-docs/blob/ayman/usage-docs/MoSeq2_Step_4.ipynb)."
   ]
  }
 ],
 "metadata": {
  "kernelspec": {
   "display_name": "Python 3",
   "language": "python",
   "name": "python3"
  },
  "language_info": {
   "codemirror_mode": {
    "name": "ipython",
    "version": 3
   },
   "file_extension": ".py",
   "mimetype": "text/x-python",
   "name": "python",
   "nbconvert_exporter": "python",
   "pygments_lexer": "ipython3",
   "version": "3.6.9"
  }
 },
 "nbformat": 4,
 "nbformat_minor": 2
}
