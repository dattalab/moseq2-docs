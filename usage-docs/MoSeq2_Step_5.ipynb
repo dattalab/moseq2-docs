{
 "cells": [
  {
   "cell_type": "code",
   "execution_count": null,
   "metadata": {},
   "outputs": [],
   "source": [
    "from bokeh.io import output_notebook\n",
    "output_notebook()"
   ]
  },
  {
   "cell_type": "markdown",
   "metadata": {},
   "source": [
    "# Analysis: Visualization\n",
    "\n",
    "Finally we have some PC coefficients and scores, and a trained model.\n",
    "\n",
    "__(Note: in this walkthrough we will be using 2 different sessions in order to create \"crowd movies\")__.\n",
    "\n",
    "You will need ___more than one session recording___ in order to continue with this walkthrough.\n",
    "\n",
    "Consider the following directory structure:"
   ]
  },
  {
   "cell_type": "markdown",
   "metadata": {},
   "source": [
    "<img src=\"media/viz-dirstruct.png\" alt=\"Starting directory structure\" title=\"Starting Directory Structure\" />"
   ]
  },
  {
   "cell_type": "markdown",
   "metadata": {},
   "source": [
    "### Generate Index File\n",
    "\n",
    "Using the __moseq2-viz__ tool, we can create an index file that will tell MoSeq2 where to find all the extractions and PCA results you wish to visualize.\n",
    "\n",
    "Below are the options provided by the moseq2-viz tool."
   ]
  },
  {
   "cell_type": "code",
   "execution_count": null,
   "metadata": {},
   "outputs": [],
   "source": [
    "%%bash\n",
    "moseq2-viz --help"
   ]
  },
  {
   "cell_type": "markdown",
   "metadata": {},
   "source": [
    "<img src=\"media/viz-flags.png\" title=\"Visualization Flag List\" />"
   ]
  },
  {
   "cell_type": "markdown",
   "metadata": {},
   "source": [
    "#### Note: in order to include all paths in the index file, run the following command one directory above the base."
   ]
  },
  {
   "cell_type": "code",
   "execution_count": null,
   "metadata": {},
   "outputs": [],
   "source": [
    "%%bash\n",
    "moseq2-viz generate-index\n",
    "mv moseq2-index.yaml sample_session"
   ]
  },
  {
   "cell_type": "markdown",
   "metadata": {},
   "source": [
    "<img src=\"media/viz-yaml.png\" alt=\"YAML File Example\" title=\"Example of Generated YAML File\" />"
   ]
  },
  {
   "cell_type": "markdown",
   "metadata": {},
   "source": [
    "### Make Crowd Movies\n",
    "This next command will enable you to generate \"crowd movies\" for your fit model; which are overlayed videos of your multiple recordings."
   ]
  },
  {
   "cell_type": "code",
   "execution_count": null,
   "metadata": {},
   "outputs": [],
   "source": [
    "%%bash\n",
    "moseq2-viz make-crowd-movies moseq2-index.yaml my_model.p"
   ]
  },
  {
   "cell_type": "markdown",
   "metadata": {},
   "source": [
    "<img src=\"media/viz-endstruct.png\" alt=\"Ending directory structure\" title=\"Final Directory Structure\" />"
   ]
  },
  {
   "cell_type": "markdown",
   "metadata": {},
   "source": [
    "## Crowd Video Example\n",
    "\n",
    "Below is an example of a crowd video that you should see in your __crowd_movies/__ directory. It shows a number of mouse recordings overlayed into one clip, where a red dot appears on the mice for a split second indicating that all the mice in the recording have expressed the same syllable.\n",
    "<img src=\"media/crowd_movie.gif\" title=\"Crowd Movie\" />"
   ]
  },
  {
   "cell_type": "markdown",
   "metadata": {},
   "source": [
    "## Plotting Syllable Usages\n",
    "\n",
    "The following command will generate plots that display the syllable usage distributions that the trained model can detect from your recordings.\n"
   ]
  },
  {
   "cell_type": "code",
   "execution_count": null,
   "metadata": {},
   "outputs": [],
   "source": [
    "%%bash\n",
    "cd sample_session/\n",
    "moseq2-viz plot-usages moseq2-index.yaml my_model.p"
   ]
  },
  {
   "cell_type": "markdown",
   "metadata": {},
   "source": [
    "### Syllable Usage Plot\n",
    "Below is a plot that shows the probability that each syllable is being expressed; where the x-axis represents the syllables sorted by their label number, and the y-axis represents the probability value.\n",
    "<img src=\"media/usages_1.png\" title=\"Syllable Usages\" />"
   ]
  },
  {
   "cell_type": "markdown",
   "metadata": {},
   "source": [
    "## Plotting Multiple Groups\n",
    "\n",
    "Plotting multiple groups may be useful when one would want to compare multiple different treatment groups. MoSeq2 offers an API to add and specify recordings to different groups such that you can discover different syllable usages and transition patterns in your specific control/treatment groups.\n",
    "\n",
    "If you want to plot multiple groups, first you need to specify your groups+groupNames in your moseq2-index.yaml file. In the following example, we present a different YAML-index containing 6 mice recordings separated into 2 groups: group1 and group2. \n",
    "\n",
    "For your reference: paths with SubjectName: K are all in group1, while paths with SubjectName: I are in group2.\n",
    "\n",
    "Following the YAML file are the commands used to create the YAML and plots shown respectively below:"
   ]
  },
  {
   "cell_type": "raw",
   "metadata": {},
   "source": [
    "files:\n",
    "- path:\n",
    "  - 2018-03-09_t13:54:51_20180309_2_m2_r_control_k_results_00.h5\n",
    "  - 2018-03-09_t13:54:51_20180309_2_m2_r_control_k_results_00.yaml\n",
    "  uuid: f2d79bd4-9991-4ac1-932f-dadcc2f3a4ed\n",
    "  group: group1\n",
    "  metadata:\n",
    "    ColorDataType: Byte[]\n",
    "    ColorResolution:\n",
    "    - 512\n",
    "    - 424\n",
    "    DepthDataType: UInt16[]\n",
    "    DepthResolution:\n",
    "    - 512\n",
    "    - 424\n",
    "    IsLittleEndian: true\n",
    "    NidaqChannels: 0\n",
    "    NidaqSamplingRate: 0.0\n",
    "    SessionName: 20180309_2M2R_control\n",
    "    StartTime: '2018-03-09T13:54:51.1490759-05:00'\n",
    "    SubjectName: K\n",
    "- path:\n",
    "  - 2018-03-08_t14:47:52_20180308_2_m6_r_control_k_results_00.h5\n",
    "  - 2018-03-08_t14:47:52_20180308_2_m6_r_control_k_results_00.yaml\n",
    "  uuid: 74b6aee1-d39c-48b2-8524-776cae011514\n",
    "  group: group1\n",
    "  metadata:\n",
    "    ColorDataType: Byte[]\n",
    "    ColorResolution:\n",
    "    - 512\n",
    "    - 424\n",
    "    DepthDataType: UInt16[]\n",
    "    DepthResolution:\n",
    "    - 512\n",
    "    - 424\n",
    "    IsLittleEndian: true\n",
    "    NidaqChannels: 0\n",
    "    NidaqSamplingRate: 0.0\n",
    "    SessionName: 20180308_2M6R_control\n",
    "    StartTime: '2018-03-08T14:47:52.7057404-05:00'\n",
    "    SubjectName: K\n",
    "- path:\n",
    "  - 2018-03-09_t14:53:24_20180309_2_m1_r_control_i_results_00.h5\n",
    "  - 2018-03-09_t14:53:24_20180309_2_m1_r_control_i_results_00.yaml\n",
    "  uuid: e0287346-6a87-4593-8601-feb0583d7ea8\n",
    "  group: group2\n",
    "  metadata:\n",
    "    ColorDataType: Byte[]\n",
    "    ColorResolution:\n",
    "    - 512\n",
    "    - 424\n",
    "    DepthDataType: UInt16[]\n",
    "    DepthResolution:\n",
    "    - 512\n",
    "    - 424\n",
    "    IsLittleEndian: true\n",
    "    NidaqChannels: 0\n",
    "    NidaqSamplingRate: 0.0\n",
    "    SessionName: 20180309_2M1R_control\n",
    "    StartTime: '2018-03-09T14:53:24.5949284-05:00'\n",
    "    SubjectName: I\n",
    "- path:\n",
    "  - 2018-03-09_t15:42:55_20180309_2_m6_r_control_k_results_00.h5\n",
    "  - 2018-03-09_t15:42:55_20180309_2_m6_r_control_k_results_00.yaml\n",
    "  uuid: e116263b-3600-455f-806e-4f4192aa33cd\n",
    "  group: group1\n",
    "  metadata:\n",
    "    ColorDataType: Byte[]\n",
    "    ColorResolution:\n",
    "    - 512\n",
    "    - 424\n",
    "    DepthDataType: UInt16[]\n",
    "    DepthResolution:\n",
    "    - 512\n",
    "    - 424\n",
    "    IsLittleEndian: true\n",
    "    NidaqChannels: 0\n",
    "    NidaqSamplingRate: 0.0\n",
    "    SessionName: 20180309_2M6R_control\n",
    "    StartTime: '2018-03-09T15:42:55.5950275-05:00'\n",
    "    SubjectName: K\n",
    "- path:\n",
    "  - 2018-03-09_t15:58:47_20180309_2_m3_r_control_i_results_00.h5\n",
    "  - 2018-03-09_t15:58:47_20180309_2_m3_r_control_i_results_00.yaml\n",
    "  uuid: fa4ce1b5-0522-448b-a7d4-f2fc74f94ace\n",
    "  group: group2\n",
    "  metadata:\n",
    "    ColorDataType: Byte[]\n",
    "    ColorResolution:\n",
    "    - 512\n",
    "    - 424\n",
    "    DepthDataType: UInt16[]\n",
    "    DepthResolution:\n",
    "    - 512\n",
    "    - 424\n",
    "    IsLittleEndian: true\n",
    "    NidaqChannels: 0\n",
    "    NidaqSamplingRate: 0.0\n",
    "    SessionName: 20180309_2M3R_control\n",
    "    StartTime: '2018-03-09T15:58:47.260391-05:00'\n",
    "    SubjectName: I\n",
    "- path:\n",
    "  - 2018-03-09_t16:41:34_20180309_2_m5_r_control_i_results_00.h5\n",
    "  - 2018-03-09_t16:41:34_20180309_2_m5_r_control_i_results_00.yaml\n",
    "  uuid: db4f4e84-9892-4af4-961f-2d8ecfb732c2\n",
    "  group: group2\n",
    "  metadata:\n",
    "    ColorDataType: Byte[]\n",
    "    ColorResolution:\n",
    "    - 512\n",
    "    - 424\n",
    "    DepthDataType: UInt16[]\n",
    "    DepthResolution:\n",
    "    - 512\n",
    "    - 424\n",
    "    IsLittleEndian: true\n",
    "    NidaqChannels: 0\n",
    "    NidaqSamplingRate: 0.0\n",
    "    SessionName: 20180309_2M5R_control\n",
    "    StartTime: '2018-03-09T16:41:34.8386809-05:00'\n",
    "    SubjectName: I\n",
    "pca_path: _pca/pca_scores.h5"
   ]
  },
  {
   "cell_type": "markdown",
   "metadata": {},
   "source": [
    "Here, the metadata for each session, stored in metadata.json, comes in handy, since this is loaded into the metadata field for each file, which is now assigned a unique key (so if you move your data around we can keep track of it).\n",
    "\n",
    "To achieve this specific YAML-index structure above, we ran the following bash commands:\n",
    "\n",
    "(assuming you are in a directory containing multiple samples)\n",
    "\n",
    "### Adding/Specifying Groups of Mice\n",
    "\n",
    "You can use __moseq2-viz add-group__ to specify groups in the index.\n",
    "\n",
    "Note: make sure you enter the correct corresponding SubjectName."
   ]
  },
  {
   "cell_type": "code",
   "execution_count": null,
   "metadata": {},
   "outputs": [],
   "source": [
    "%%bash\n",
    "moseq2-viz generate-index\n",
    "moseq2-viz add-group -k SubjectName -v K -g group1 moseq2-index.yaml\n",
    "moseq2-viz add-group -k SubjectName -v K -g group2 -n moseq2-index.yaml"
   ]
  },
  {
   "cell_type": "markdown",
   "metadata": {},
   "source": [
    "__For clarification, the second add-group command is specifying that SubjectNames != K are group2.__\n",
    "\n",
    "For your convenience, below is a command line help manual depicting what some of the flags mean."
   ]
  },
  {
   "cell_type": "code",
   "execution_count": null,
   "metadata": {},
   "outputs": [],
   "source": [
    "%%bash\n",
    "moseq2-viz add-group --help"
   ]
  },
  {
   "cell_type": "markdown",
   "metadata": {},
   "source": [
    "<img src=\"media/add-group-help.png\" title=\"Add Group Flags\" />"
   ]
  },
  {
   "cell_type": "markdown",
   "metadata": {},
   "source": [
    "MoSeq2-viz will search all of the sessions, and any sessions where the SubjectName is \"K\" will be assigned to group1. If you made a mistake and you want to change the metadata for a particular session, you can modify the yaml file directory."
   ]
  },
  {
   "cell_type": "markdown",
   "metadata": {},
   "source": [
    "### Plot Syllable Usages in Multiple Groups \n",
    "\n",
    "With the groups specified we can visualize things a few different ways. First, we can plot the syllable usages for each group (average and bootstrap confidence interval shown on a per session basis, i.e. one sample is one session):\n",
    "\n",
    "Below, we are retraining our model such that it the recordings are associated with the correct group label in our above YAML.\n",
    "\n",
    "__Note: the --separate-trans parameter is required in order to create separate transition matrices for your groups.__"
   ]
  },
  {
   "cell_type": "code",
   "execution_count": null,
   "metadata": {},
   "outputs": [],
   "source": [
    "%%bash\n",
    "cd _pca\n",
    "moseq2-model learn-model -i ../moseq2-index.yaml -k 323859 --separate-trans pca_scores.h5 model_output.p"
   ]
  },
  {
   "cell_type": "markdown",
   "metadata": {},
   "source": [
    "### Plot Scalars\n",
    "\n",
    "Next we can plot a scalar summary which includes information such as velocity and average height:\n",
    "\n",
    "You don't need to specify groups or a model here, by default each group is shown separately. "
   ]
  },
  {
   "cell_type": "code",
   "execution_count": null,
   "metadata": {},
   "outputs": [],
   "source": [
    "%%bash\n",
    "cd ../\n",
    "moseq2-viz plot-scalar-summary moseq2-index.yaml"
   ]
  },
  {
   "cell_type": "markdown",
   "metadata": {},
   "source": [
    "<img src=\"media/viz-scalars.png\" title=\"Final Directory Structure\" />"
   ]
  },
  {
   "cell_type": "markdown",
   "metadata": {},
   "source": [
    "### Plot Multi-Group Syllable Usages\n",
    "For your reference, we have also included the syllable usages plot for multi-group comparison.\n",
    "Once again, you can generate a usage plot with the following command _and the specificied flags_:"
   ]
  },
  {
   "cell_type": "code",
   "execution_count": null,
   "metadata": {},
   "outputs": [],
   "source": [
    "moseq2-viz plot-usages moseq2-index.yaml _pca/model_output.p -g group1 -g group2"
   ]
  },
  {
   "cell_type": "markdown",
   "metadata": {},
   "source": [
    "Creating the following usage plot:\n",
    "<img src=\"media/usages.png\" title=\"Syllable Usage Plot\" />"
   ]
  },
  {
   "cell_type": "markdown",
   "metadata": {},
   "source": [
    "### Scalars Summary Plot\n",
    "\n",
    "Note that the following plots are derived from the latest (multi-group) index-YAML version shown above.\n",
    "\n",
    "<img src=\"media/scalars_summary.png\" title=\"Scalars Summary Plot\" />\n",
    "\n",
    "\n",
    "### Scalars Position (Tracking) Plot\n",
    "<img src=\"media/scalars_position.png\" title=\"Scalars Position Tracking Plot\" />\n"
   ]
  },
  {
   "cell_type": "markdown",
   "metadata": {},
   "source": [
    "### Plotting Transition Graphs\n",
    "\n",
    "Finally, we can visualize the transition graphs and their differences with the following command:\n",
    "\n",
    "__Note that we will use the model that has been trained on the separated groups in order to achieve the following plots.__"
   ]
  },
  {
   "cell_type": "code",
   "execution_count": null,
   "metadata": {},
   "outputs": [],
   "source": [
    "%%bash\n",
    "moseq2-viz plot-transition-graph moseq2-index.yaml _pca/model_output.p -g group1 -g group2"
   ]
  },
  {
   "cell_type": "markdown",
   "metadata": {},
   "source": [
    "### Transition Graph for Difference Between Two Groups\n",
    "<img src=\"media/transitions2.png\" title=\"Transition Graph\" />\n",
    "\n",
    "If you only have one transition matrix group to graph, this is what the transition plot would look like:\n",
    "\n",
    "### Transition Graph for One Group\n",
    "<img src=\"media/transitions.png\" title=\"Transition Graph\" />"
   ]
  },
  {
   "cell_type": "markdown",
   "metadata": {},
   "source": [
    "# Begin Syllable Statistical Testing\n",
    "\n",
    "Now that we are done visualizing all of our data and results, we can start performing statistical analysis on the model's performance on unseen test data. [Click here for the Statistical Analysis walkthrough](http://localhost:8888/notebooks/MoSeq2_Step_6.ipynb) || [github link](https://github.com/dattalab/moseq2-docs/blob/ayman/usage-docs/MoSeq2_Step_6.ipynb)"
   ]
  }
 ],
 "metadata": {
  "kernelspec": {
   "display_name": "Python 3",
   "language": "python",
   "name": "python3"
  },
  "language_info": {
   "codemirror_mode": {
    "name": "ipython",
    "version": 3
   },
   "file_extension": ".py",
   "mimetype": "text/x-python",
   "name": "python",
   "nbconvert_exporter": "python",
   "pygments_lexer": "ipython3",
   "version": "3.6.4"
  }
 },
 "nbformat": 4,
 "nbformat_minor": 2
}
