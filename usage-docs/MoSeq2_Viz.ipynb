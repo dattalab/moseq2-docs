{
 "cells": [
  {
   "cell_type": "markdown",
   "metadata": {},
   "source": [
    "# Analysis: Visualization\n",
    "\n",
    "Finally we have some PC coefficients and scores, and a trained model.\n",
    "\n",
    "__(Note: in this walkthrough we will be using 2 different sessions in order to create \"crowd movies\")__.\n",
    "\n",
    "Consider the following directory structure:"
   ]
  },
  {
   "cell_type": "raw",
   "metadata": {},
   "source": [
    ".\n",
    "├── depth.dat\n",
    "├── depth_ts.txt\n",
    "├── metadata.json\n",
    "├── my_model.pkl\n",
    "├── proc\n",
    "│   ├── bground.tiff\n",
    "│   ├── first_frame.tiff\n",
    "│   ├── results_00.h5\n",
    "│   ├── results_00.mp4\n",
    "│   ├── results_00.yaml\n",
    "│   └── roi_00.tiff\n",
    "├── _pca\n",
    "│   ├── changepoints_dist.pdf\n",
    "│   ├── changepoints_dist.png\n",
    "│   ├── changepoints.h5\n",
    "│   ├── pca_components.pdf\n",
    "│   ├── pca_components.png\n",
    "│   ├── pca_scores.h5\n",
    "│   ├── pca_scree.pdf\n",
    "│   ├── pca_scree.png\n",
    "│   ├── pca.h5\n",
    "│   ├── pca.yaml\n",
    "├── rgb.mp4\n",
    "└── rgb_ts.txt"
   ]
  },
  {
   "cell_type": "markdown",
   "metadata": {},
   "source": [
    "### Generate Index File\n",
    "\n",
    "Using the __moseq2-viz__ tool, we can create an index file that will tell MoSeq2 where to find all the extractions and PCA results you wish to visualize.\n",
    "\n",
    "Below are the options provided by the moseq2-viz tool."
   ]
  },
  {
   "cell_type": "code",
   "execution_count": null,
   "metadata": {},
   "outputs": [],
   "source": [
    "%%bash\n",
    "moseq2-viz --help"
   ]
  },
  {
   "cell_type": "raw",
   "metadata": {},
   "source": [
    "For your reference, the options are pasted below:\n",
    "\n",
    "Usage: moseq2-viz [OPTIONS] COMMAND [ARGS]...\n",
    "\n",
    "Options:\n",
    "  --help  Show this message and exit.  [default: False]\n",
    "\n",
    "Commands:\n",
    "  add-group\n",
    "  copy-h5-metadata-to-yaml\n",
    "  generate-index\n",
    "  make-crowd-movies\n",
    "  plot-scalar-summary\n",
    "  plot-transition-graph\n",
    "  plot-usages"
   ]
  },
  {
   "cell_type": "code",
   "execution_count": null,
   "metadata": {},
   "outputs": [],
   "source": [
    "%%bash\n",
    "cd sample_session/\n",
    "moseq2-viz generate-index"
   ]
  },
  {
   "cell_type": "raw",
   "metadata": {},
   "source": [
    "This will create a moseq2-index.yaml in your root session directory. (Shown below)\n",
    "\n",
    "files:\n",
    "- path:\n",
    "  - proc/results_00.h5\n",
    "  - proc/results_00.yaml\n",
    "  uuid: c3ae3048-ef47-4b61-846c-c4f6af9be953\n",
    "  group: default\n",
    "  metadata:\n",
    "    SubjectName: blackStockOFA80GritSanded_012517\n",
    "    SessionName: '012517'\n",
    "    NidaqChannels: 0\n",
    "    NidaqSamplingRate: 0.0\n",
    "    DepthResolution:\n",
    "    - 512\n",
    "    - 424\n",
    "    IsLittleEndian: true\n",
    "    DepthDataType: UInt16[]\n",
    "    ColorResolution:\n",
    "    - 512\n",
    "    - 424\n",
    "    ColorDataType: Byte[]\n",
    "    StartTime: '2017-01-25T10:42:07.1734698-05:00'\n",
    "pca_path: _pca/pca_scores.h5"
   ]
  },
  {
   "cell_type": "markdown",
   "metadata": {},
   "source": [
    "### Make Crowd Movies"
   ]
  },
  {
   "cell_type": "code",
   "execution_count": null,
   "metadata": {},
   "outputs": [],
   "source": [
    "%%bash\n",
    "cd sample_session/\n",
    "moseq2-viz make-crowd-movies moseq2-index.yaml my_model.pkl"
   ]
  },
  {
   "cell_type": "code",
   "execution_count": null,
   "metadata": {},
   "outputs": [],
   "source": []
  }
 ],
 "metadata": {
  "kernelspec": {
   "display_name": "Python 3",
   "language": "python",
   "name": "python3"
  },
  "language_info": {
   "codemirror_mode": {
    "name": "ipython",
    "version": 3
   },
   "file_extension": ".py",
   "mimetype": "text/x-python",
   "name": "python",
   "nbconvert_exporter": "python",
   "pygments_lexer": "ipython3",
   "version": "3.6.9"
  }
 },
 "nbformat": 4,
 "nbformat_minor": 2
}
